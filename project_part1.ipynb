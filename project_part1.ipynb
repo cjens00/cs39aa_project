{
 "cells": [
  {
   "cell_type": "markdown",
   "metadata": {
    "tags": []
   },
   "source": [
    "# Project Part 1\n",
    "\n",
    "B) An exploratory analysis section that has the histograms, charts, tables, etc. that are the output from your exploratory analysis."
   ]
  },
  {
   "cell_type": "markdown",
   "metadata": {
    "jp-MarkdownHeadingCollapsed": true,
    "tags": []
   },
   "source": [
    "## Introduction/Background\n",
    "\n",
    "In this notebook, I cover the exploratory data analysis (EDA) portion of my natural language processing project,\n",
    "which aims to train a deep learning model in the recognition of emotion. Through employing the _Lexicon/AFINN_\n",
    "dataset, which is a list of English language words and their positive or negative intensity\n",
    "from -5 (__Most Negative__) to +5 (__Most Positive__), I will examine the depth of the data provided by\n",
    "the _Statements_ dataset. The _Statements_ dataset is a compiled list of English language statements,\n",
    "many of which are not complete sentences, as well as the emotion that best fits them."
   ]
  },
  {
   "cell_type": "markdown",
   "metadata": {},
   "source": [
    "## Exploratory Data Analysis\n",
    "\n",
    "* https://neptune.ai/blog/exploratory-data-analysis-natural-language-processing-tools\n",
    "* https://regenerativetoday.com/exploratory-data-analysis-of-text-data-including-visualization-and-sentiment-analysis/\n",
    "* https://medium.com/swlh/text-summarization-guide-exploratory-data-analysis-on-text-data-4e22ce2dd6ad  \n",
    "* https://www.kdnuggets.com/2019/05/complete-exploratory-data-analysis-visualization-text-data.html  \n"
   ]
  },
  {
   "cell_type": "code",
   "execution_count": 16,
   "metadata": {},
   "outputs": [],
   "source": [
    "import matplotlib, numpy, nltk\n",
    "import sklearn, gensim, wordcloud\n",
    "import textblob, spacy, textstat\n",
    "import pandas as pd\n",
    "import seaborn as sns\n",
    "from tqdm import tqdm, tqdm_pandas"
   ]
  },
  {
   "cell_type": "code",
   "execution_count": 17,
   "metadata": {},
   "outputs": [
    {
     "name": "stderr",
     "output_type": "stream",
     "text": [
      "[nltk_data] Downloading package stopwords to\n",
      "[nltk_data]     C:\\Users\\cjens\\AppData\\Roaming\\nltk_data...\n",
      "[nltk_data]   Package stopwords is already up-to-date!\n"
     ]
    }
   ],
   "source": [
    "nltk.download('stopwords')\n",
    "from nltk.corpus import stopwords"
   ]
  },
  {
   "cell_type": "code",
   "execution_count": 41,
   "metadata": {},
   "outputs": [],
   "source": [
    "statements = pd.read_csv(\"dataset/Statements/Data-all.csv\")\n",
    "lexiconAFINN = pd.read_csv(\"dataset/Lexicons/afinn.csv\")"
   ]
  },
  {
   "cell_type": "code",
   "execution_count": 42,
   "outputs": [
    {
     "data": {
      "text/plain": "                                            Statement  Emotion\n0   a boyfriend with whom i split up with came ove...    anger\n1   a certain friend tried to push me off a seat i...    anger\n2          a father of children killed in an accident  sadness\n3                                    a few monthe ago    anger\n4   a friend of mine suggested that i become a fil...      joy\n..                                                ...      ...\n65  i acknowledge that i am not actually fat by de...     fear\n66  i act as head of family when he is far too you...      joy\n67  i acted like a little girl by acting cute towa...    anger\n68  i acted withdrawn and cold towards others in s...  sadness\n69  i actually answered you pathetic fucking e mai...     fear\n\n[70 rows x 2 columns]",
      "text/html": "<div>\n<style scoped>\n    .dataframe tbody tr th:only-of-type {\n        vertical-align: middle;\n    }\n\n    .dataframe tbody tr th {\n        vertical-align: top;\n    }\n\n    .dataframe thead th {\n        text-align: right;\n    }\n</style>\n<table border=\"1\" class=\"dataframe\">\n  <thead>\n    <tr style=\"text-align: right;\">\n      <th></th>\n      <th>Statement</th>\n      <th>Emotion</th>\n    </tr>\n  </thead>\n  <tbody>\n    <tr>\n      <th>0</th>\n      <td>a boyfriend with whom i split up with came ove...</td>\n      <td>anger</td>\n    </tr>\n    <tr>\n      <th>1</th>\n      <td>a certain friend tried to push me off a seat i...</td>\n      <td>anger</td>\n    </tr>\n    <tr>\n      <th>2</th>\n      <td>a father of children killed in an accident</td>\n      <td>sadness</td>\n    </tr>\n    <tr>\n      <th>3</th>\n      <td>a few monthe ago</td>\n      <td>anger</td>\n    </tr>\n    <tr>\n      <th>4</th>\n      <td>a friend of mine suggested that i become a fil...</td>\n      <td>joy</td>\n    </tr>\n    <tr>\n      <th>...</th>\n      <td>...</td>\n      <td>...</td>\n    </tr>\n    <tr>\n      <th>65</th>\n      <td>i acknowledge that i am not actually fat by de...</td>\n      <td>fear</td>\n    </tr>\n    <tr>\n      <th>66</th>\n      <td>i act as head of family when he is far too you...</td>\n      <td>joy</td>\n    </tr>\n    <tr>\n      <th>67</th>\n      <td>i acted like a little girl by acting cute towa...</td>\n      <td>anger</td>\n    </tr>\n    <tr>\n      <th>68</th>\n      <td>i acted withdrawn and cold towards others in s...</td>\n      <td>sadness</td>\n    </tr>\n    <tr>\n      <th>69</th>\n      <td>i actually answered you pathetic fucking e mai...</td>\n      <td>fear</td>\n    </tr>\n  </tbody>\n</table>\n<p>70 rows × 2 columns</p>\n</div>"
     },
     "execution_count": 42,
     "metadata": {},
     "output_type": "execute_result"
    }
   ],
   "source": [
    "statements.head(70)"
   ],
   "metadata": {
    "collapsed": false
   }
  },
  {
   "cell_type": "code",
   "execution_count": 43,
   "outputs": [
    {
     "data": {
      "text/plain": "   Unnamed: 0       word  value\n0           1    abandon     -2\n1           2  abandoned     -2\n2           3   abandons     -2\n3           4   abducted     -2\n4           5  abduction     -2",
      "text/html": "<div>\n<style scoped>\n    .dataframe tbody tr th:only-of-type {\n        vertical-align: middle;\n    }\n\n    .dataframe tbody tr th {\n        vertical-align: top;\n    }\n\n    .dataframe thead th {\n        text-align: right;\n    }\n</style>\n<table border=\"1\" class=\"dataframe\">\n  <thead>\n    <tr style=\"text-align: right;\">\n      <th></th>\n      <th>Unnamed: 0</th>\n      <th>word</th>\n      <th>value</th>\n    </tr>\n  </thead>\n  <tbody>\n    <tr>\n      <th>0</th>\n      <td>1</td>\n      <td>abandon</td>\n      <td>-2</td>\n    </tr>\n    <tr>\n      <th>1</th>\n      <td>2</td>\n      <td>abandoned</td>\n      <td>-2</td>\n    </tr>\n    <tr>\n      <th>2</th>\n      <td>3</td>\n      <td>abandons</td>\n      <td>-2</td>\n    </tr>\n    <tr>\n      <th>3</th>\n      <td>4</td>\n      <td>abducted</td>\n      <td>-2</td>\n    </tr>\n    <tr>\n      <th>4</th>\n      <td>5</td>\n      <td>abduction</td>\n      <td>-2</td>\n    </tr>\n  </tbody>\n</table>\n</div>"
     },
     "execution_count": 43,
     "metadata": {},
     "output_type": "execute_result"
    }
   ],
   "source": [
    "lexiconAFINN.head(5)"
   ],
   "metadata": {
    "collapsed": false
   }
  },
  {
   "cell_type": "code",
   "execution_count": 44,
   "outputs": [],
   "source": [
    "afinnDict = dict(zip(lexiconAFINN.word, lexiconAFINN.value))\n",
    "stmtAfinnValues = pd.Series(statements.Statement.apply(lambda stmt: sum([afinnDict[w] for w in stmt.split() if w in afinnDict]), 1))"
   ],
   "metadata": {
    "collapsed": false
   }
  },
  {
   "cell_type": "code",
   "execution_count": 45,
   "outputs": [
    {
     "data": {
      "text/plain": "0        1\n1        0\n2       -5\n3        0\n4        4\n        ..\n19995    0\n19996    0\n19997    3\n19998    0\n19999    4\nName: Statement, Length: 20000, dtype: int64"
     },
     "execution_count": 45,
     "metadata": {},
     "output_type": "execute_result"
    }
   ],
   "source": [
    "stmtAfinnValues"
   ],
   "metadata": {
    "collapsed": false
   }
  },
  {
   "cell_type": "code",
   "execution_count": 46,
   "outputs": [
    {
     "data": {
      "text/plain": "pandas.core.series.Series"
     },
     "execution_count": 46,
     "metadata": {},
     "output_type": "execute_result"
    }
   ],
   "source": [
    "type(stmtAfinnValues)"
   ],
   "metadata": {
    "collapsed": false
   }
  },
  {
   "cell_type": "code",
   "execution_count": 47,
   "outputs": [],
   "source": [
    "statements.insert(2, \"Intensity\", stmtAfinnValues)"
   ],
   "metadata": {
    "collapsed": false
   }
  },
  {
   "cell_type": "code",
   "execution_count": null,
   "outputs": [],
   "source": [],
   "metadata": {
    "collapsed": false
   }
  }
 ],
 "metadata": {
  "kernelspec": {
   "display_name": "Python 3 (ipykernel)",
   "language": "python",
   "name": "python3"
  },
  "language_info": {
   "codemirror_mode": {
    "name": "ipython",
    "version": 3
   },
   "file_extension": ".py",
   "mimetype": "text/x-python",
   "name": "python",
   "nbconvert_exporter": "python",
   "pygments_lexer": "ipython3",
   "version": "3.9.13"
  },
  "vscode": {
   "interpreter": {
    "hash": "ad2bdc8ecc057115af97d19610ffacc2b4e99fae6737bb82f5d7fb13d2f2c186"
   }
  }
 },
 "nbformat": 4,
 "nbformat_minor": 4
}
